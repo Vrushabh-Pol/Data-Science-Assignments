{
  "cells": [
    {
      "cell_type": "code",
      "execution_count": null,
      "metadata": {
        "id": "dv-QvgllrBLy"
      },
      "outputs": [],
      "source": [
        "import pandas as pd\n",
        "import numpy as np\n",
        "from scipy import stats"
      ]
    },
    {
      "cell_type": "markdown",
      "metadata": {
        "id": "34JusllprBL1"
      },
      "source": [
        "# __Problem Statement :__  \n",
        "\n",
        "\n",
        "_A F&B manager wants to determine whether there is any significant difference in the diameter of the cutlet between two units. A randomly selected sample of cutlets was collected from both units and measured? Analyze the data and draw inferences at 5% significance level. Please state the assumptions and tests that you carried out to check validity of the assumptions_"
      ]
    },
    {
      "cell_type": "markdown",
      "metadata": {
        "id": "DIfUu8BArBL3"
      },
      "source": [
        "## __1 - Business Problem__  \n",
        "Is there significant difference in the diameter of the cutlet ?\n"
      ]
    },
    {
      "cell_type": "markdown",
      "metadata": {
        "id": "PDti6YTFrBL3"
      },
      "source": [
        "## __2 - Data description__\n",
        "\n",
        "α == 0.05 (95% Confidence)\n",
        "\n",
        "Y == Continious  \n",
        "X == Discrete\n",
        "\n",
        "Is Y1 and Y2 normal ?\n",
        "\n",
        "H0 = Y1 and Y2 are normal  \n",
        "H1 = Y1 and Y2 are not normal\n"
      ]
    },
    {
      "cell_type": "markdown",
      "metadata": {
        "id": "VlnIMH-NrBL4"
      },
      "source": [
        "## __3 - Normality Test__  "
      ]
    },
    {
      "cell_type": "code",
      "execution_count": null,
      "metadata": {
        "id": "R-bWZFPgrBL4"
      },
      "outputs": [],
      "source": [
        "df = pd.read_csv(\"C:/Users/Sohail/OneDrive/Data Science/Assignments/Hypothesis Testing/Raw_Data/Cutlets.csv\")"
      ]
    },
    {
      "cell_type": "code",
      "execution_count": null,
      "metadata": {
        "id": "Oj32WUdArBL5",
        "outputId": "87a297b8-5851-4316-e6d9-dc58726e2c69"
      },
      "outputs": [
        {
          "data": {
            "text/plain": [
              "(0.9649458527565002, 0.3199819028377533)"
            ]
          },
          "execution_count": 6,
          "metadata": {},
          "output_type": "execute_result"
        }
      ],
      "source": [
        "stats.shapiro(df[\"Unit A\"])"
      ]
    },
    {
      "cell_type": "markdown",
      "metadata": {
        "id": "XQIFkp6frBL6"
      },
      "source": [
        "P value for Unit A == 0.32 > α"
      ]
    },
    {
      "cell_type": "code",
      "execution_count": null,
      "metadata": {
        "id": "fCI1HEGfrBL6",
        "outputId": "2f929f9c-e9f3-4d8d-85e1-f55e24820d8c"
      },
      "outputs": [
        {
          "data": {
            "text/plain": [
              "(0.9727300405502319, 0.5224985480308533)"
            ]
          },
          "execution_count": 8,
          "metadata": {},
          "output_type": "execute_result"
        }
      ],
      "source": [
        "stats.shapiro(df[\"Unit B\"])"
      ]
    },
    {
      "cell_type": "markdown",
      "metadata": {
        "id": "M1aZfpoSrBL6"
      },
      "source": [
        "(0.9727300405502319, 0.5224985480308533)  \n",
        "P value for Unit B == 0.52 > α"
      ]
    },
    {
      "cell_type": "markdown",
      "metadata": {
        "id": "8KuKDzpmrBL7"
      },
      "source": [
        "### HO is accepted. Thats is both Y1 and Y2 are normal"
      ]
    },
    {
      "cell_type": "markdown",
      "metadata": {
        "id": "dj9BorrvrBL7"
      },
      "source": [
        "## __4 - External Condition__"
      ]
    },
    {
      "cell_type": "markdown",
      "metadata": {
        "id": "IjdR3vp4rBL7"
      },
      "source": [
        "### External condition are same.  \n",
        "### Thus we can perform Paired T Test"
      ]
    },
    {
      "cell_type": "markdown",
      "metadata": {
        "id": "3cdzRVz8rBL7"
      },
      "source": [
        "## __5 - Model__"
      ]
    },
    {
      "cell_type": "markdown",
      "metadata": {
        "id": "-ndvegT0rBL7"
      },
      "source": [
        "H0 == Mean for Y1 and Y2 are equal (There is no significance difference between diameter of the Culets)  \n",
        "H1 == Mean for Y1 and Y2 are not equal (There is a significance difference between diameter of the Culets)"
      ]
    },
    {
      "cell_type": "code",
      "execution_count": null,
      "metadata": {
        "id": "cASsHPnFrBL7",
        "outputId": "f8ff018d-c334-4f75-bce2-9c2fd66f177a"
      },
      "outputs": [
        {
          "data": {
            "text/plain": [
              "Ttest_relResult(statistic=0.7536787225614323, pvalue=0.45623007680384076)"
            ]
          },
          "execution_count": 20,
          "metadata": {},
          "output_type": "execute_result"
        }
      ],
      "source": [
        "stats.ttest_rel(df[\"Unit A\"], df[\"Unit B\"])"
      ]
    },
    {
      "cell_type": "markdown",
      "metadata": {
        "id": "1LOpjdubrBL7"
      },
      "source": [
        "Ttest_relResult(statistic=0.7536787225614323, pvalue=0.45623007680384076)  \n",
        "P value of the Paired T Test is == 0.45 > α  "
      ]
    },
    {
      "cell_type": "markdown",
      "metadata": {
        "id": "hKcNwCAsrBL7"
      },
      "source": [
        "## Thus H0 is accepted.  \n",
        "## Mean of both Y1 and Y2 are equal"
      ]
    },
    {
      "cell_type": "code",
      "execution_count": null,
      "metadata": {
        "id": "GLk9VqnlrBL8"
      },
      "outputs": [],
      "source": []
    }
  ],
  "metadata": {
    "kernelspec": {
      "display_name": "Python 3",
      "language": "python",
      "name": "python3"
    },
    "language_info": {
      "codemirror_mode": {
        "name": "ipython",
        "version": 3
      },
      "file_extension": ".py",
      "mimetype": "text/x-python",
      "name": "python",
      "nbconvert_exporter": "python",
      "pygments_lexer": "ipython3",
      "version": "3.7.3"
    },
    "colab": {
      "provenance": []
    }
  },
  "nbformat": 4,
  "nbformat_minor": 0
}