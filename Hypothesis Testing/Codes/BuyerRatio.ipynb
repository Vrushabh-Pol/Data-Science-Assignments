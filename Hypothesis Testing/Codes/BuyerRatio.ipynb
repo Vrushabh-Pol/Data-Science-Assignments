{
  "cells": [
    {
      "cell_type": "code",
      "execution_count": null,
      "metadata": {
        "id": "5iq0Wzk3pDVa"
      },
      "outputs": [],
      "source": [
        "import pandas as pd\n",
        "import numpy as np\n",
        "from scipy import stats"
      ]
    },
    {
      "cell_type": "markdown",
      "metadata": {
        "id": "O1RpNyWgpDVe"
      },
      "source": [
        "# __Problem Statement :__  \n",
        "\n",
        "\n",
        "_Sales of products in four different regions is tabulated for males and females. Find if male-female buyer rations are similar across regions_"
      ]
    },
    {
      "cell_type": "markdown",
      "metadata": {
        "id": "__SBo1c8pDVf"
      },
      "source": [
        "## __1 - Business Problem__  \n",
        "Is the male-female buyer rations are similar across regions"
      ]
    },
    {
      "cell_type": "markdown",
      "metadata": {
        "id": "p8wUkwY5pDVg"
      },
      "source": [
        "## __2 - Data description__\n",
        "\n",
        "α == 0.05 (95% Confidence)\n",
        "\n",
        "Y == Discrete  \n",
        "X == Discrete  \n",
        "\n",
        "Since there are more than 2 variable we will perform Chi-Square test"
      ]
    },
    {
      "cell_type": "markdown",
      "metadata": {
        "id": "As-ZkAvlpDVg"
      },
      "source": [
        "## __3 - Chi-Square Test__  "
      ]
    },
    {
      "cell_type": "code",
      "execution_count": null,
      "metadata": {
        "id": "dAD_JZ5NpDVh"
      },
      "outputs": [],
      "source": [
        "df = pd.read_csv(\"/content/BuyerRatio.csv\")"
      ]
    },
    {
      "cell_type": "markdown",
      "metadata": {
        "id": "ApKluOx1pDVh"
      },
      "source": [
        "H0 == The male-female buyer rations are similar across regions  \n",
        "H1 == The male-female buyer rations are not similar across regions"
      ]
    },
    {
      "cell_type": "code",
      "execution_count": null,
      "metadata": {
        "colab": {
          "base_uri": "https://localhost:8080/"
        },
        "id": "G6uw4EO3pDVi",
        "outputId": "27882c89-c4fb-4ab5-8a7c-cb664eb1ace5"
      },
      "outputs": [
        {
          "output_type": "execute_result",
          "data": {
            "text/plain": [
              "Chi2ContingencyResult(statistic=1.5959455386610577, pvalue=0.6603094907091882, dof=3, expected_freq=array([[  42.76531299,  442.23468701],\n",
              "       [ 146.81287862, 1518.18712138],\n",
              "       [ 131.11756787, 1355.88243213],\n",
              "       [  72.30424052,  747.69575948]]))"
            ]
          },
          "metadata": {},
          "execution_count": 5
        }
      ],
      "source": [
        "stats.chi2_contingency([df[\"East\"], df[\"West\"], df[\"North\"], df[\"South\"]])"
      ]
    },
    {
      "cell_type": "markdown",
      "metadata": {
        "id": "rza31u8fpDVj"
      },
      "source": [
        "P value of Chi-Square test  == 0.66 > α\n",
        "\n",
        "## Thus HO is accepted.  \n",
        "## The male-female buyer rations are similar across regions  "
      ]
    },
    {
      "cell_type": "code",
      "execution_count": null,
      "metadata": {
        "id": "DeIJnisOpDVj"
      },
      "outputs": [],
      "source": []
    }
  ],
  "metadata": {
    "kernelspec": {
      "display_name": "Python 3",
      "language": "python",
      "name": "python3"
    },
    "language_info": {
      "codemirror_mode": {
        "name": "ipython",
        "version": 3
      },
      "file_extension": ".py",
      "mimetype": "text/x-python",
      "name": "python",
      "nbconvert_exporter": "python",
      "pygments_lexer": "ipython3",
      "version": "3.7.3"
    },
    "colab": {
      "provenance": []
    }
  },
  "nbformat": 4,
  "nbformat_minor": 0
}