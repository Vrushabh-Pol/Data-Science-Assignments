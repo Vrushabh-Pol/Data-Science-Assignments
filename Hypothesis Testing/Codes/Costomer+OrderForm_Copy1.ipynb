{
  "cells": [
    {
      "cell_type": "code",
      "execution_count": null,
      "metadata": {
        "id": "1ZhGV9dZpdWT"
      },
      "outputs": [],
      "source": [
        "import pandas as pd\n",
        "import numpy as np\n",
        "from scipy import stats"
      ]
    },
    {
      "cell_type": "markdown",
      "metadata": {
        "id": "4acU4WtbpdWW"
      },
      "source": [
        "# __Problem Statement :__  \n",
        "\n",
        "\n",
        "_TeleCall uses 4 centers around the globe to process customer order forms. They audit a certain %  of the customer order forms. Any error in order form renders it defective and has to be reworked before processing.  The manager wants to check whether the defective %  varies by centre. Please analyze the data at 5% significance level and help the manager draw appropriate inferences_"
      ]
    },
    {
      "cell_type": "markdown",
      "metadata": {
        "id": "D-k5yz5DpdWX"
      },
      "source": [
        "## __1 - Business Problem__  \n",
        "Does the defective % varies significantly by centre ?"
      ]
    },
    {
      "cell_type": "markdown",
      "metadata": {
        "id": "r6qKpAQvpdWY"
      },
      "source": [
        "## __2 - Data description__\n",
        "\n",
        "α == 0.05 (95% Confidence)\n",
        "\n",
        "Y == Discrete  \n",
        "X == Discrete  \n",
        "\n",
        "Since there are more than 2 variable we will perform Chi-Square test"
      ]
    },
    {
      "cell_type": "markdown",
      "metadata": {
        "id": "WHDgsuJapdWY"
      },
      "source": [
        "## __3 - Chi-Square Test__  "
      ]
    },
    {
      "cell_type": "code",
      "execution_count": null,
      "metadata": {
        "id": "7a8dyTGMpdWY"
      },
      "outputs": [],
      "source": [
        "df = pd.read_csv(\"/content/Costomer+OrderForm.csv\")"
      ]
    },
    {
      "cell_type": "markdown",
      "metadata": {
        "id": "MWt6hXVTpdWZ"
      },
      "source": [
        "H0 == The defective % does not varies by centre  \n",
        "H1 == The defective % does varies by centre"
      ]
    },
    {
      "cell_type": "code",
      "execution_count": null,
      "metadata": {
        "id": "Sf2E6zUJpdWZ",
        "outputId": "55124746-bbd3-482c-edea-e25ca039f0a2",
        "colab": {
          "base_uri": "https://localhost:8080/"
        }
      },
      "outputs": [
        {
          "output_type": "execute_result",
          "data": {
            "text/plain": [
              "Chi2ContingencyResult(statistic=3.8589606858203545, pvalue=0.2771020991233144, dof=3, expected_freq=array([[271.75,  28.25],\n",
              "       [271.75,  28.25],\n",
              "       [271.75,  28.25],\n",
              "       [271.75,  28.25]]))"
            ]
          },
          "metadata": {},
          "execution_count": 3
        }
      ],
      "source": [
        "stats.chi2_contingency([df['Phillippines'].value_counts(), df['Indonesia'].value_counts(), df['Malta'].value_counts(), df['India'].value_counts()])"
      ]
    },
    {
      "cell_type": "markdown",
      "metadata": {
        "id": "vS2r0Yp-pdWa"
      },
      "source": [
        "P value of Chi-Square test  == 0.277 > α\n",
        "\n",
        "## Thus HO is accepted.  \n",
        "## The defective % does not varies significantly by centres"
      ]
    },
    {
      "cell_type": "code",
      "execution_count": null,
      "metadata": {
        "id": "pwE5lPhrpdWa"
      },
      "outputs": [],
      "source": []
    }
  ],
  "metadata": {
    "kernelspec": {
      "display_name": "Python 3",
      "language": "python",
      "name": "python3"
    },
    "language_info": {
      "codemirror_mode": {
        "name": "ipython",
        "version": 3
      },
      "file_extension": ".py",
      "mimetype": "text/x-python",
      "name": "python",
      "nbconvert_exporter": "python",
      "pygments_lexer": "ipython3",
      "version": "3.7.3"
    },
    "colab": {
      "provenance": []
    }
  },
  "nbformat": 4,
  "nbformat_minor": 0
}