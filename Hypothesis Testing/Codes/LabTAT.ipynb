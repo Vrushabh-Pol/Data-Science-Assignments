{
  "cells": [
    {
      "cell_type": "code",
      "execution_count": 1,
      "metadata": {
        "id": "8cyF8sUoqb6b"
      },
      "outputs": [],
      "source": [
        "import pandas as pd\n",
        "import numpy as np\n",
        "from scipy import stats"
      ]
    },
    {
      "cell_type": "markdown",
      "metadata": {
        "id": "cniS100yqb6e"
      },
      "source": [
        "# __Problem Statement :__  \n",
        "\n",
        "\n",
        "_A hospital wants to determine whether there is any difference in the average Turn Around Time (TAT) of reports of the laboratories on their preferred list. They collected a random sample and recorded TAT for reports of 4 laboratories. TAT is defined as sample collected to report dispatch_\n",
        "   \n",
        "_Analyze the data and determine whether there is any difference in average TAT among the different laboratories at 5% significance level_"
      ]
    },
    {
      "cell_type": "markdown",
      "metadata": {
        "id": "Nfau91ONqb6f"
      },
      "source": [
        "## __1 - Business Problem__  \n",
        "Is there a significant difference in the average Turn Around Time between laboratories ?\n"
      ]
    },
    {
      "cell_type": "markdown",
      "metadata": {
        "id": "wopJGbrYqb6g"
      },
      "source": [
        "## __2 - Data description__\n",
        "\n",
        "α == 0.05 (95% Confidence)\n",
        "\n",
        "Y == Continious  \n",
        "X == Discrete\n",
        "\n",
        "Is Y1, Y2, Y3 and Y4 normal ?\n",
        "\n",
        "H0 = Y1, Y2, Y3 and Y4 are normal  \n",
        "H1 = Y1, Y2, Y3 and Y4 are not normal\n"
      ]
    },
    {
      "cell_type": "markdown",
      "metadata": {
        "id": "017RGhULqb6g"
      },
      "source": [
        "## __3 - Normality Test__  "
      ]
    },
    {
      "cell_type": "code",
      "execution_count": 2,
      "metadata": {
        "id": "NB2ROcy1qb6h"
      },
      "outputs": [],
      "source": [
        "df = pd.read_csv(\"/content/LabTAT.csv\")"
      ]
    },
    {
      "cell_type": "code",
      "execution_count": 3,
      "metadata": {
        "colab": {
          "base_uri": "https://localhost:8080/"
        },
        "id": "5LjFLn0Zqb6h",
        "outputId": "691dc530-2136-4864-9e3b-aa55a961195d"
      },
      "outputs": [
        {
          "output_type": "execute_result",
          "data": {
            "text/plain": [
              "ShapiroResult(statistic=0.990183413028717, pvalue=0.5507769584655762)"
            ]
          },
          "metadata": {},
          "execution_count": 3
        }
      ],
      "source": [
        "stats.shapiro(df[\"Laboratory 1\"])"
      ]
    },
    {
      "cell_type": "markdown",
      "metadata": {
        "id": "G-QMCtaeqb6i"
      },
      "source": [
        "(0.9901824593544006, 0.5506953597068787)  \n",
        "P value for Laboratory 1 == 0.55 > α"
      ]
    },
    {
      "cell_type": "code",
      "execution_count": 4,
      "metadata": {
        "colab": {
          "base_uri": "https://localhost:8080/"
        },
        "id": "H01zeDFFqb6i",
        "outputId": "44d78a21-c43c-43b6-dcde-ed2569d9798b"
      },
      "outputs": [
        {
          "output_type": "execute_result",
          "data": {
            "text/plain": [
              "ShapiroResult(statistic=0.9936320185661316, pvalue=0.8637352585792542)"
            ]
          },
          "metadata": {},
          "execution_count": 4
        }
      ],
      "source": [
        "stats.shapiro(df[\"Laboratory 2\"])"
      ]
    },
    {
      "cell_type": "markdown",
      "metadata": {
        "id": "INfXPk5wqb6j"
      },
      "source": [
        "(0.9936322569847107, 0.8637524843215942)  \n",
        "P value for Laboratory 2 == 0.86 > α"
      ]
    },
    {
      "cell_type": "code",
      "execution_count": 5,
      "metadata": {
        "colab": {
          "base_uri": "https://localhost:8080/"
        },
        "id": "8-J7LpQbqb6j",
        "outputId": "9853c938-65de-4d99-c4f5-a0a66805623c"
      },
      "outputs": [
        {
          "output_type": "execute_result",
          "data": {
            "text/plain": [
              "ShapiroResult(statistic=0.988633930683136, pvalue=0.42045730352401733)"
            ]
          },
          "metadata": {},
          "execution_count": 5
        }
      ],
      "source": [
        "stats.shapiro(df[\"Laboratory 3\"])"
      ]
    },
    {
      "cell_type": "markdown",
      "metadata": {
        "id": "yRo4aTE6qb6j"
      },
      "source": [
        "(0.9886345267295837, 0.4205053448677063)  \n",
        "P value for Laboratory 3 == 0.42 > α"
      ]
    },
    {
      "cell_type": "code",
      "execution_count": 6,
      "metadata": {
        "colab": {
          "base_uri": "https://localhost:8080/"
        },
        "id": "bSXOQYb9qb6j",
        "outputId": "df203f1d-4617-4052-9e91-5ee904368f7b"
      },
      "outputs": [
        {
          "output_type": "execute_result",
          "data": {
            "text/plain": [
              "ShapiroResult(statistic=0.9913760423660278, pvalue=0.6619619131088257)"
            ]
          },
          "metadata": {},
          "execution_count": 6
        }
      ],
      "source": [
        "stats.shapiro(df[\"Laboratory 4\"])"
      ]
    },
    {
      "cell_type": "markdown",
      "metadata": {
        "id": "ChROBCM4qb6k"
      },
      "source": [
        "(0.9913753271102905, 0.6618951559066772)    \n",
        "P value for Y1 (Unit B) == 0.66 > α"
      ]
    },
    {
      "cell_type": "markdown",
      "metadata": {
        "id": "B-J6hvCcqb6k"
      },
      "source": [
        "### HO is accepted. Thats is Y1, Y2, Y3, and Y4 are normal"
      ]
    },
    {
      "cell_type": "markdown",
      "metadata": {
        "id": "PjJnFiDaqb6k"
      },
      "source": [
        "## __4 - Variance__"
      ]
    },
    {
      "cell_type": "markdown",
      "metadata": {
        "id": "AThcy_VDqb6k"
      },
      "source": [
        "H0 == Variance of all 4 laboratories are the same  \n",
        "H1 == Variance of all 4 laboratories are the not same"
      ]
    },
    {
      "cell_type": "code",
      "execution_count": 7,
      "metadata": {
        "colab": {
          "base_uri": "https://localhost:8080/"
        },
        "id": "iGqYmAVWqb6k",
        "outputId": "a7b78a94-21e9-48a8-ca7d-4ec2f9f1fe5b"
      },
      "outputs": [
        {
          "output_type": "execute_result",
          "data": {
            "text/plain": [
              "LeveneResult(statistic=2.599642500418024, pvalue=0.05161343808309816)"
            ]
          },
          "metadata": {},
          "execution_count": 7
        }
      ],
      "source": [
        "stats.levene(df[\"Laboratory 1\"], df[\"Laboratory 2\"], df[\"Laboratory 3\"], df[\"Laboratory 4\"])"
      ]
    },
    {
      "cell_type": "markdown",
      "metadata": {
        "id": "7o3iOkhtqb6k"
      },
      "source": [
        "LeveneResult(statistic=2.599642500418024, pvalue=0.05161343808309816)  \n",
        "P Value of Variance test is == 0.051 > α"
      ]
    },
    {
      "cell_type": "markdown",
      "metadata": {
        "id": "fpVA4cClqb6k"
      },
      "source": [
        "### H0 is accepted  \n",
        "### Thus we will perform one way Anova Test"
      ]
    },
    {
      "cell_type": "markdown",
      "metadata": {
        "id": "aeWk6uKQqb6k"
      },
      "source": [
        "## __5 - Model__"
      ]
    },
    {
      "cell_type": "markdown",
      "metadata": {
        "id": "GmfV_cM2qb6k"
      },
      "source": [
        "H0 == Mean TAT for 4 laboratories equal (There is no significance difference between TAT of the laboratories)  \n",
        "H1 == Mean TAT for 4 laboratories not equal (There is a significance difference between TAT of the laboratories)"
      ]
    },
    {
      "cell_type": "code",
      "execution_count": 8,
      "metadata": {
        "colab": {
          "base_uri": "https://localhost:8080/"
        },
        "id": "i2TKNuevqb6k",
        "outputId": "689ef80f-2df5-4c4d-ab22-12f22f34f3fd"
      },
      "outputs": [
        {
          "output_type": "stream",
          "name": "stderr",
          "text": [
            "<ipython-input-8-e40a46764b4e>:1: DeprecationWarning: Please use `f_oneway` from the `scipy.stats` namespace, the `scipy.stats.stats` namespace is deprecated.\n",
            "  stats.stats.f_oneway(df[\"Laboratory 1\"], df[\"Laboratory 2\"], df[\"Laboratory 3\"], df[\"Laboratory 4\"])\n"
          ]
        },
        {
          "output_type": "execute_result",
          "data": {
            "text/plain": [
              "F_onewayResult(statistic=118.70421654401437, pvalue=2.1156708949992414e-57)"
            ]
          },
          "metadata": {},
          "execution_count": 8
        }
      ],
      "source": [
        "stats.stats.f_oneway(df[\"Laboratory 1\"], df[\"Laboratory 2\"], df[\"Laboratory 3\"], df[\"Laboratory 4\"])"
      ]
    },
    {
      "cell_type": "markdown",
      "metadata": {
        "id": "cLplgOdPqb6l"
      },
      "source": [
        "F_onewayResult(statistic=118.70421654401437, pvalue=2.1156708949992414e-57)  \n",
        "P value of the One way Anova test is == 2e-16 < α  "
      ]
    },
    {
      "cell_type": "markdown",
      "metadata": {
        "id": "OkbPt-csqb6l"
      },
      "source": [
        "## Thus H1 is accepted.  \n",
        "## Mean TAT for 4 laboratories not equal (There is a significance difference between TAT of the laboratories)"
      ]
    },
    {
      "cell_type": "code",
      "execution_count": 8,
      "metadata": {
        "id": "y27N_ZP-qb6l"
      },
      "outputs": [],
      "source": []
    }
  ],
  "metadata": {
    "kernelspec": {
      "display_name": "Python 3",
      "language": "python",
      "name": "python3"
    },
    "language_info": {
      "codemirror_mode": {
        "name": "ipython",
        "version": 3
      },
      "file_extension": ".py",
      "mimetype": "text/x-python",
      "name": "python",
      "nbconvert_exporter": "python",
      "pygments_lexer": "ipython3",
      "version": "3.7.3"
    },
    "colab": {
      "provenance": []
    }
  },
  "nbformat": 4,
  "nbformat_minor": 0
}