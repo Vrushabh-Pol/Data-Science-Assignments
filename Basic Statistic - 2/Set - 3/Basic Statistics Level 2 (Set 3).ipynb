{
 "cells": [
  {
   "cell_type": "markdown",
   "id": "c04d01af",
   "metadata": {},
   "source": [
    "## Confidence Intervals"
   ]
  },
  {
   "cell_type": "code",
   "execution_count": 1,
   "id": "594a1842",
   "metadata": {},
   "outputs": [],
   "source": [
    "import pandas as pd\n",
    "import numpy as np\n",
    "import matplotlib.pyplot as plt\n",
    "import scipy.stats as stats\n",
    "import seaborn as sns\n",
    "import statsmodels.api as smf\n",
    "import warnings\n",
    "warnings.filterwarnings('ignore')"
   ]
  },
  {
   "cell_type": "markdown",
   "id": "4c122c93",
   "metadata": {},
   "source": [
    "## Que no 5\n",
    "* In January 2005, a company that monitors Internet traffic (WebSideStory) reported that its sampling revealed that the Mozilla Firefox browser launched in 2004 had grabbed a 4.6% share of the market.\n",
    "* If the sample were based on 2,000 users, could Microsoft conclude that Mozilla has a less than 5% share of the market?\n",
    "\n",
    "Ans\n",
    "\n",
    "* null_hypothesis >= 5%\n",
    "* alternate hypothesis < 5%"
   ]
  },
  {
   "cell_type": "code",
   "execution_count": 2,
   "id": "83ed88a0",
   "metadata": {},
   "outputs": [
    {
     "data": {
      "text/plain": [
       "0.20582313410777142"
      ]
     },
     "execution_count": 2,
     "metadata": {},
     "output_type": "execute_result"
    }
   ],
   "source": [
    "p_hat = .046\n",
    "p = .05\n",
    "n = 2000\n",
    "\n",
    "# z_score = p_hat-p/(p(1-p)/n)**0.5\n",
    "z_score = (p_hat-p)/(np.sqrt((p*(1-p))/n))\n",
    "z_score\n",
    "\n",
    "p_value = stats.norm.sf(0.821)\n",
    "p_value"
   ]
  },
  {
   "cell_type": "markdown",
   "id": "8b69318c",
   "metadata": {},
   "source": [
    "* Find Probability assuming null hyposthesis, so as to compare with Type-1 error α = 0.05"
   ]
  },
  {
   "cell_type": "code",
   "execution_count": 3,
   "id": "d5a53337",
   "metadata": {},
   "outputs": [
    {
     "name": "stdout",
     "output_type": "stream",
     "text": [
      "No: Microsoft could not conclude that Mozilla has a less\n",
      "    than 5% share of the market even if the sample were \n",
      "    based on 2,000 users\n"
     ]
    }
   ],
   "source": [
    "if p_value>0.05:\n",
    "    print(\"\"\"No: Microsoft could not conclude that Mozilla has a less\n",
    "    than 5% share of the market even if the sample were \n",
    "    based on 2,000 users\"\"\")\n",
    "else:\n",
    "    print(\"Yes\")"
   ]
  },
  {
   "cell_type": "markdown",
   "id": "5cfba8f8",
   "metadata": {},
   "source": [
    "# THE END!!"
   ]
  }
 ],
 "metadata": {
  "kernelspec": {
   "display_name": "Python 3 (ipykernel)",
   "language": "python",
   "name": "python3"
  },
  "language_info": {
   "codemirror_mode": {
    "name": "ipython",
    "version": 3
   },
   "file_extension": ".py",
   "mimetype": "text/x-python",
   "name": "python",
   "nbconvert_exporter": "python",
   "pygments_lexer": "ipython3",
   "version": "3.9.12"
  }
 },
 "nbformat": 4,
 "nbformat_minor": 5
}
